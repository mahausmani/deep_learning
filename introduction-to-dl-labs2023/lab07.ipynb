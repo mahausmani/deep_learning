{
  "cells": [
    {
      "cell_type": "markdown",
      "metadata": {
        "id": "view-in-github",
        "colab_type": "text"
      },
      "source": [
        "<a href=\"https://colab.research.google.com/github/mahausmani/deep_learning/blob/main/introduction-to-dl-labs2023/lab07.ipynb\" target=\"_parent\"><img src=\"https://colab.research.google.com/assets/colab-badge.svg\" alt=\"Open In Colab\"/></a>"
      ]
    },
    {
      "cell_type": "markdown",
      "metadata": {
        "id": "nPrcFL1CppMQ"
      },
      "source": [
        "# CS 316 : Introduction to Deep Learning\n",
        "## Lab 07 : Multi Layer Perceptron\n",
        "### Dr. Abdul Samad"
      ]
    },
    {
      "cell_type": "markdown",
      "metadata": {
        "id": "TozoSdRnp298"
      },
      "source": [
        "# Instructions\n",
        "1. Please rename your notebook as *Lab_7_aa1234.ipynb* before the final submission. Notebooks which do not follow appropriate naming convention will not be graded.\n",
        "\n",
        "2. Filling out the feedback form on Canvas is mandatory. Failure to do so will result in you losing 10% of your grade for this lab.\n",
        "\n",
        "3. You have one week to submit this lab. Late submissions will be graded with a 30% penalty. No submission will be accepted after two weeks.\n",
        "\n",
        "4. Please submit your own work. If you have any questions, please feel free to reach out to the course instructor , RA or TA.\n"
      ]
    },
    {
      "cell_type": "markdown",
      "metadata": {
        "id": "j8KjSRERqFp6"
      },
      "source": [
        "# Setup"
      ]
    },
    {
      "cell_type": "code",
      "execution_count": null,
      "metadata": {
        "id": "_ZO46K_PqIT3"
      },
      "outputs": [],
      "source": [
        "# Import numpy using the alias np\n",
        "import numpy as np\n",
        "# Set random seed for numpy to obtain reproducability\n",
        "np.random.seed(42)\n",
        "# Import matplotlib.pyplot using the alias plt\n",
        "import matplotlib.pyplot as plt\n",
        "%matplotlib inline\n",
        "# Import the data loaders for the CIFAR10 and Fashion_MNIST Dataset\n",
        "from keras.datasets import cifar10,fashion_mnist\n",
        "# Import trange\n",
        "from tqdm import trange\n",
        "# Import clear_output\n",
        "from IPython.display import clear_output"
      ]
    },
    {
      "cell_type": "markdown",
      "metadata": {
        "id": "P3hJbpUgrkef"
      },
      "source": [
        "# Overview"
      ]
    },
    {
      "cell_type": "markdown",
      "metadata": {
        "id": "RtGLW-ODrzdo"
      },
      "source": [
        "In this notebook, we are going to build a neural network(multilayer perceptron) using numpy and successfully train it to perform image classification. Deep learning is a vast topic, but we got to start somewhere, so let's start with the very basics of a neural network which is Multilayer Perceptron.\n",
        "\n",
        "---\n",
        "\n",
        "<h2>What is a neural network?</h2>\n",
        "A neural network is a type of machine learning model which is inspired by our neurons in the brain where many neurons are connected with many other neurons to translate an input to an output. Mostly we can look at any machine learning model and think of it as a function which takes an input and produces the desired output; it's the same with a neural network.\n",
        "\n",
        "---\n",
        "<h2>What is a Multilayer Perceptron ?</h2>\n",
        "\n",
        "Multi-layer perceptron is a type of network where multiple layers of a group of perceptron are stacked together to make a model. Before we jump into the concept of a layer and multiple perceptrons, let's start with the building block of this network which is a perceptron. Think of perceptron/neuron as a linear model which takes multiple inputs and produce an output. In our case perceptron is a linear model which takes a bunch of inputs multiply them with weights and add a bias term to generate an output.\n",
        "\n",
        "$$ Z = \\vec {w} \\cdot X + b $$\n",
        "\n",
        "\n",
        "\n",
        "<center>\n",
        "\n",
        "<img src=\"https://raw.githubusercontent.com/aayushmnit/Deep_learning_explorations/master/1_MLP_from_scratch/perceptron.png\" align='center'>\n",
        "<center/>\n",
        "\n",
        "\n",
        "<center>Fig 1: Perceptron Image<center/>\n",
        "\n",
        "\n",
        "<center>Image credit=https://commons.wikimedia.org/wiki/File:Perceptron.png<center/>\n",
        "\n",
        "\n",
        "Now, if we stack a bunch of these perceptrons together, it becomes a hidden layer which is also known as a Dense layer in modern deep learning terminology.\n",
        "\n",
        "$$f(X)=X \\cdot W + \\vec{b}$$\n",
        "where bias term is now a vector and W is a weight matrix\n",
        "\n",
        "<center>\n",
        "<img src=\"https://raw.githubusercontent.com/aayushmnit/Deep_learning_explorations/master/1_MLP_from_scratch/single_layer_mlp.png\" align ='center'>\n",
        "</center>\n",
        "\n",
        "\n",
        "<center>Fig 2: Single dense layer perceptron network</center>\n",
        "\n",
        "\n",
        "<center>Image credit=http://www.texample.net/tikz/examples/neural-network/\n",
        "</center>\n",
        "\n",
        "Now we understand dense layer let's add a bunch of them, and that network becomes a multi-layer perceptron network.\n",
        "\n",
        "<img src=\"https://raw.githubusercontent.com/aayushmnit/Deep_learning_explorations/master/1_MLP_from_scratch/multi_layer_mlp.png\" align ='center'>\n",
        "\n",
        "<center>Fig 3: Multi layer perceptron network<center/>\n",
        "<center>Image credit=http://pubs.sciepub.com/ajmm/3/3/1/figure/2<center/>\n",
        "\n",
        "\n",
        "If you have noticed our dense layer, only have linear functions, and any combination of linear function only results in the linear output. As we want our MLP to be flexible and learn non-linear decision boundaries, we also need to introduce non-linearity into the network. We achieve the task of introducing non-linearity by adding activation function. There are various kinds of activation function which can be used, but we will be implementing Rectified Linear Units(ReLU) and Sigmoid which are one of the popular activation functions.\n",
        "\n",
        "ReLU function is a simple function which is zero for any input value below zero and the same value for values greater than zero.\n",
        "\n",
        "$$f(X) = max(0,X)$$\n",
        "\n",
        "A sigmoid function is a bounded, differentiable, real function that is defined for all real input values and has a non-negative derivative at each point and exactly one inflection point.\n",
        "\n",
        "$$f(X) = \\frac{1}{1+\\exp{(-x)}} $$\n",
        "\n",
        "Now, we understand dense layer and also understand the purpose of activation function, the only thing left is training the network. For training a neural network we need to have a loss function and every layer should have a **feed-forward loop** and **backpropagation loop**. Feedforward loop takes an input and generates output for making a prediction and backpropagation loop helps in training the model by adjusting weights in the layer to lower the output loss. In backpropagation, the weight update is done by using backpropagated gradients using the chain rule and optimized using an optimization algorithm. In our case, we will be using SGD(stochastic gradient descent).\n",
        "\n",
        "---\n",
        "\n",
        "So, to summarize a neural network needs few building blocks\n",
        "\n",
        "- Dense layer - a fully-connected layer, $f(X)=W \\cdot X + \\vec{b}$\n",
        "- ReLU / Sigmoid Layer (or any other activation function to introduce non-linearity)\n",
        "- Loss function - (crossentropy in case of multi-class classification problem)\n",
        "- Backprop algorithm - a stochastic gradient descent with backpropageted gradients\n",
        "\n",
        "We will be approaching one at a time"
      ]
    },
    {
      "cell_type": "markdown",
      "metadata": {
        "id": "tGbF5SHlHAU8"
      },
      "source": [
        "# Task Overview"
      ]
    },
    {
      "cell_type": "markdown",
      "metadata": {
        "id": "kfyOxnjhHEaj"
      },
      "source": [
        "We will implement each of these modules separately in Numpy and then combine them to form a Multi Layer Perceptron. Each layer will have a forward pass and backward pass. So let's create a base class `Layer` which will have a forward pass and backward pass, and each class will inherit this base class."
      ]
    },
    {
      "cell_type": "code",
      "execution_count": null,
      "metadata": {
        "id": "yvXwnFON7782"
      },
      "outputs": [],
      "source": [
        "# DO NOT EDIT\n",
        "class Layer:\n",
        "    \"\"\"\n",
        "    A building block. Each layer is capable of performing two things:\n",
        "\n",
        "    - Process input to get output:           output = layer.forward(input)\n",
        "\n",
        "    - Propagate gradients through itself:    grad_input = layer.backward(input, grad_output)\n",
        "\n",
        "    Some layers also have learnable parameters which they update during layer.backward.\n",
        "    \"\"\"\n",
        "    def __init__(self):\n",
        "        \"\"\"Here we can initialize layer parameters (if any) and auxiliary stuff.\"\"\"\n",
        "        # A dummy layer does nothing\n",
        "        pass\n",
        "\n",
        "    def forward(self, input):\n",
        "        \"\"\"\n",
        "        Takes input data of shape [batch, input_units], returns output data [batch, output_units]\n",
        "        \"\"\"\n",
        "        # A dummy layer just returns whatever it gets as input.\n",
        "        return input\n",
        "\n",
        "    def backward(self, input, grad_output):\n",
        "        \"\"\"\n",
        "        Performs a backpropagation step through the layer, with respect to the given input.\n",
        "\n",
        "        To compute loss gradients w.r.t input, we need to apply chain rule (backprop):\n",
        "\n",
        "        d loss / d x  = (d loss / d layer) * (d layer / d x)\n",
        "\n",
        "        Luckily, we already receive d loss / d layer as input, so you only need to multiply it by d layer / d x.\n",
        "\n",
        "        If our layer has parameters (e.g. dense layer), we also need to update them here using d loss / d layer\n",
        "        \"\"\"\n",
        "        # The gradient of a dummy layer is precisely grad_output, but we'll write it more explicitly\n",
        "        num_units = input.shape[1]\n",
        "\n",
        "        d_layer_d_input = np.eye(num_units)\n",
        "\n",
        "        return np.dot(grad_output, d_layer_d_input) # chain rule"
      ]
    },
    {
      "cell_type": "markdown",
      "metadata": {
        "id": "pv_D_xfeSJew"
      },
      "source": [
        "## [20 Points] Task 01: Activation Function"
      ]
    },
    {
      "cell_type": "markdown",
      "metadata": {
        "id": "ahV6g33ISR9C"
      },
      "source": [
        "In this task, you are to required to implement the ReLU and Sigmoid activation function by completing the `ReLU` and `Sigmoid` classes."
      ]
    },
    {
      "cell_type": "markdown",
      "metadata": {
        "id": "_c2FSZV_St7P"
      },
      "source": [
        "### [10 Points] Part A: ReLU (Rectified Linear Unit)"
      ]
    },
    {
      "cell_type": "markdown",
      "metadata": {
        "id": "gm--JMDnDy4q"
      },
      "source": [
        "The ReLU function is defined as\n",
        "$$ f(x) = \\max{(x,0)} $$\n",
        "\n",
        "The derivative of the ReLU function is defined as\n",
        "$$ f^{\\prime} {(x)} = \\begin{cases} 0  & x < 0 \\\\ 1 & x > 0  \\end{cases} $$"
      ]
    },
    {
      "cell_type": "code",
      "execution_count": null,
      "metadata": {
        "id": "UG7RxaDZ7785"
      },
      "outputs": [],
      "source": [
        "#TODO: Complete the ReLU Class\n",
        "class ReLU(Layer):\n",
        "    def __init__(self):\n",
        "        \"\"\"ReLU layer simply applies elementwise rectified linear unit to all inputs\"\"\"\n",
        "        # Does nothing\n",
        "        pass\n",
        "\n",
        "    def forward(self, input):\n",
        "        \"\"\"Apply elementwise ReLU to [batch, input_units] matrix\"\"\"\n",
        "        relu_forward =\n",
        "        return relu_forward\n",
        "\n",
        "    def backward(self, input, grad_output):\n",
        "        \"\"\"Compute gradient of loss w.r.t. ReLU input\"\"\"\n",
        "        relu_grad = ...\n",
        "        return grad_output*relu_grad"
      ]
    },
    {
      "cell_type": "markdown",
      "metadata": {
        "id": "jITMwRaST5Ip"
      },
      "source": [
        "### [10 Points] Part B: Sigmoid"
      ]
    },
    {
      "cell_type": "markdown",
      "metadata": {
        "id": "RtM-JW-3Esvq"
      },
      "source": [
        "The Sigmoid function is defined as\n",
        "$$ f(x) = \\frac{1}{1+\\exp({-x})} $$\n",
        "\n",
        "The derivative of the Sigmoid function is equal to\n",
        "$$ f^{\\prime}(x) = \\frac{ \\exp{(-x)}  }{{(1+\\exp({-x}))}^2}= f(x) (1 -f(x))$$"
      ]
    },
    {
      "cell_type": "code",
      "execution_count": null,
      "metadata": {
        "id": "mV5puOs0ktIE"
      },
      "outputs": [],
      "source": [
        "# TODO: Complete the Sigmoid Class\n",
        "class Sigmoid(Layer):\n",
        "    def __init__(self):\n",
        "        \"\"\"Sigmoid layer simply applies sigmoid activation function to all inputs\"\"\"\n",
        "        # Does nothing\n",
        "        pass\n",
        "\n",
        "    def forward(self, input):\n",
        "        \"\"\"Apply elementwise sigmoid to [batch, input_units] matrix\"\"\"\n",
        "        sigmoid_forward = ...\n",
        "        return sigmoid_forward\n",
        "\n",
        "    def backward(self, input, grad_output):\n",
        "        \"\"\"Compute gradient of loss w.r.t. Sigmoid input\"\"\"\n",
        "        sigmoid_grad = ...\n",
        "        return grad_output*sigmoid_grad\n"
      ]
    },
    {
      "cell_type": "markdown",
      "metadata": {
        "id": "E3EREhpUW_Og"
      },
      "source": [
        "## [40 Points] Task 02: Dense Layer"
      ]
    },
    {
      "cell_type": "markdown",
      "metadata": {
        "id": "ZSANCIEr7787"
      },
      "source": [
        "\n",
        "A dense layer applies affine transformation. In a vectorized form, it can be described as:\n",
        "$$f(X)= X \\cdot W + \\vec b $$\n",
        "where $X$ is an object-feature matrix of shape `[batch_size, num_features]`, $W$ is a weight matrix `[num_features, num_outputs]` and $b$ is a vector of num_outputs biases.\n",
        "\n",
        "Both $W$ and $b$ are initialized during layer creation and updated each time backward is called. In order to train our model to converge faster **Xavier initialization**  is used. Instead of initializing our $W$ with small numbers which are distributed randomly we initialize our weights with $\\mu=0$ and $\\sigma^2 = \\frac{2}{\\text{Number of inputs} + \\text{Number of outputs}} $ .\n",
        "\n",
        "Furthemore, we intialize the bias vector $b$ as a vector of zeros.\n",
        "\n",
        "\n",
        "---\n",
        "The derivative of the loss $\\mathcal{l}$ with respect to the input is defined as\n",
        "$$ \\frac{d\\mathcal{l}}{ d x}  = \\frac{d \\mathcal{l}} {d L} \\cdot \\frac{dL} { d\\mathcal{x}} $$\n",
        "\n",
        "where $\\frac{d \\mathcal{l}} {d L}$ is the derivative of layer $(L)$ with respect to  loss $\\mathcal{L}$ and $\\frac{dL} { d\\mathcal{x}}$ is the derivative of Layer $(L)$ with respect to the input $x$.\n",
        "\n",
        "In case of the dense layer, $\\frac{dL} { d\\mathcal{x}} = W^\\top$.\n",
        "\n",
        "The gradient of weights $W$ with respect to the input is defined as\n",
        "$$ \\frac{d \\mathcal{l}}{d W} = \\frac{1}{m} X^{\\top} \\cdot \\frac{d \\mathcal{l}} {d L} $$\n",
        "\n",
        "The gradient of biases $b$ with respect to the input is defined as the sum of each columm for $\\frac{d \\mathcal{l}} {d L}$ and then divide this sum by number of samples $m$\n"
      ]
    },
    {
      "cell_type": "markdown",
      "metadata": {
        "id": "UK77L16w3dHp"
      },
      "source": [
        "Hint: In the `backward` method provided by the `Dense` class, $\\frac{d \\mathcal{l}} {d L}$ is denoted by the parameter `grad_output`"
      ]
    },
    {
      "cell_type": "markdown",
      "metadata": {
        "id": "AQmhTCUeXWsO"
      },
      "source": [
        "In this task, you are required to implement the Dense Layer by completing the `Dense` class"
      ]
    },
    {
      "cell_type": "code",
      "execution_count": null,
      "metadata": {
        "id": "93docNIx7788"
      },
      "outputs": [],
      "source": [
        "#TODO: Complete the Dense class\n",
        "class Dense(Layer):\n",
        "    def __init__(self, input_units, output_units, learning_rate=0.01):\n",
        "        \"\"\"\n",
        "        A dense layer is a layer which performs a learned affine transformation:\n",
        "        f(x) = <X,W> + b\n",
        "        \"\"\"\n",
        "        # Initialize learning_rate,weights and biases\n",
        "\n",
        "        self.learning_rate = ...\n",
        "        self.weights = ...\n",
        "        self.biases = ...\n",
        "\n",
        "\n",
        "    def forward(self,input):\n",
        "        \"\"\"\n",
        "        Perform an affine transformation:\n",
        "        f(x) = <X,W> + b\n",
        "\n",
        "        input shape: [batch, input_units]\n",
        "        output shape: [batch, output units]\n",
        "        \"\"\"\n",
        "        # Perform an affine transformation on the input.\n",
        "        output = ...\n",
        "        return output\n",
        "\n",
        "    def backward(self,input,grad_output):\n",
        "        \"\"\"\n",
        "        Computes the gradient of the input w.r.t to the loss function.\n",
        "        Computes the gradient of the weights and bias w.r.t to the loss function.\n",
        "        \"\"\"\n",
        "        # Compute (d Loss / d input) = (d Loss / d dense) \\cdot (d dense / d input)\n",
        "        # (d Loss / d input) = grad_input\n",
        "        # (d Loss / d dense) = grad_output\n",
        "        # d (dense/ d input) = W.T\n",
        "        grad_input = ...\n",
        "\n",
        "        # Compute gradient w.r.t. weights\n",
        "        # <input.T,grad_output>/input.shape[0]\n",
        "        grad_weights = ...\n",
        "\n",
        "        # Compute gradient w.r.t biases\n",
        "        # Column wise sum grad_out and divided that by input.shape\n",
        "        grad_biases = ...\n",
        "\n",
        "\n",
        "        # Assert statement to check if dimensions match\n",
        "        assert grad_weights.shape == self.weights.shape and grad_biases.shape == self.biases.shape\n",
        "\n",
        "        # Update weight\n",
        "        # w_new = w_old - lr * dw\n",
        "        self.weights = ...\n",
        "\n",
        "        # b_new = b_old - lr * db\n",
        "        self.biases = ...\n",
        "\n",
        "\n",
        "        return grad_input"
      ]
    },
    {
      "cell_type": "markdown",
      "metadata": {
        "id": "GXaETX87z7L-"
      },
      "source": [
        "## [10 Points] Task 03: Cross Entropy Loss Function"
      ]
    },
    {
      "cell_type": "markdown",
      "metadata": {
        "id": "okQWwckyKpjW"
      },
      "source": [
        "The Cross Entropy Loss function is defined as\n",
        "$$ {l}(y,\\hat{y}) = -\\frac{1}{m} \\sum_{i=1}^{q} y_i \\log{(\\hat{y}_i)}  $$\n",
        "where $q$ is the number of classes.\n",
        "\n",
        "---\n",
        "The derivative of the Softmax activation function is defined as\n",
        "$$ \\frac{\\delta l(y,\\hat{y})}{\\delta o_j} = \\frac{\\exp{o_j}}{\\sum_{i=1}^{q} \\exp{(o_i)}} - y_j = softmax(o_j) - y_j$$\n",
        "where $q$ is the number of classes."
      ]
    },
    {
      "cell_type": "markdown",
      "metadata": {
        "id": "Jt-VYZ0j8a76"
      },
      "source": [
        "In this section, you are required to implement the cross entropy loss function and compute the derivative of the softmax function with respect to the cross entropy loss by completing the functions `cross_entropy_loss` and `grad_cross_entropy_loss`. You also need to implement the `softmax` and `one_hot` functions."
      ]
    },
    {
      "cell_type": "code",
      "execution_count": null,
      "metadata": {
        "id": "qBiSSXsagZfz"
      },
      "outputs": [],
      "source": [
        "# TODO: Implement the softmax and one_hot encoding\n",
        "def softmax(z):\n",
        "  \"\"\"\n",
        "  Computes the softmax activation function on the linear part\n",
        "  \"\"\"\n",
        "  probs = ...\n",
        "  return probs\n",
        "\n",
        "def one_hot(y,c):\n",
        "  \"\"\"\n",
        "  Computes one hot encoding of the label vector.\n",
        "  \"\"\"\n",
        "\n",
        "  y_hot = ...\n",
        "  return y_hot\n"
      ]
    },
    {
      "cell_type": "code",
      "execution_count": null,
      "metadata": {
        "id": "DMb3N3E6gcpY"
      },
      "outputs": [],
      "source": [
        "# TODO: Implement the cross entropy loss function\n",
        "def cross_entropy_loss(logits,y):\n",
        "  \"\"\"\n",
        "  Computes the cross entropy loss using logits and y.\n",
        "  \"\"\"\n",
        "  y_hat = softmax(logits)\n",
        "  y_hot = one_hot(y,10)\n",
        "  loss = ...\n",
        "  return loss"
      ]
    },
    {
      "cell_type": "code",
      "execution_count": null,
      "metadata": {
        "id": "txS3wjCa85WC"
      },
      "outputs": [],
      "source": [
        "# TODO: Compute the gradient of the softmax activation function with respect to the cross entropy loss function\n",
        "def softmax_grad(logits,y):\n",
        "  \"\"\"\n",
        "  Compute gradient of the softmax activation function w.r.t cross entropy loss\n",
        "  \"\"\"\n",
        "  y_hat = softmax(logits)\n",
        "  y_hot = one_hot(y,10)\n",
        "  grad = ...\n",
        "  return grad\n"
      ]
    },
    {
      "cell_type": "markdown",
      "metadata": {
        "id": "RnSoAFTZ_hfd"
      },
      "source": [
        "## [30 Points] Task 04: MLP"
      ]
    },
    {
      "cell_type": "markdown",
      "metadata": {
        "id": "lBKO7BWT_uuu"
      },
      "source": [
        "In this task, you are required to implement the class `MLP` which implements the forward and backward pass as well as computes the predictions from the model."
      ]
    },
    {
      "cell_type": "code",
      "execution_count": null,
      "metadata": {
        "id": "sEdhA8ngAI0M"
      },
      "outputs": [],
      "source": [
        "class MLP:\n",
        "  \"\"\"\n",
        "  Wrapper class for the mulit-layer perceptron which implements the forward and backward pass as well as computes the predictions.\n",
        "  \"\"\"\n",
        "  def __init__(self,n) -> None:\n",
        "      self.network = n\n",
        "  def forward(self, X):\n",
        "    \"\"\"\n",
        "    Compute activations of all network layers by applying them sequentially.\n",
        "    Return a list of activations for each layer.\n",
        "    \"\"\"\n",
        "    activations = []\n",
        "    input = X\n",
        "    # Looping through each layer\n",
        "    for l in self.network:\n",
        "        # Append output of layer l to the activation list\n",
        "        ...\n",
        "        # Updating input to last layer output\n",
        "        input = ...\n",
        "\n",
        "    assert len(activations) == len(self.network)\n",
        "    return activations\n",
        "  def predict(self,X):\n",
        "      \"\"\"\n",
        "      Compute network predictions. Returning indices of largest Logit probability\n",
        "      \"\"\"\n",
        "      # Compute the forward pass for X and get the ouput from the last activation layer (logits)\n",
        "      logits = ...\n",
        "      # Pass the logits to the softmax activation and return the indice of the component with highest probablilty\n",
        "      predicted_label = ...\n",
        "      return  predicted_label\n",
        "\n",
        "\n",
        "  def train(self,X,y):\n",
        "      \"\"\"\n",
        "      Train our network on a given batch of X and y.\n",
        "      We first need to run forward to get all layer activations.\n",
        "      Then we can run layer.backward going from last to first layer.\n",
        "      After we have called backward for all layers, all Dense layers have already made one gradient step.\n",
        "      \"\"\"\n",
        "\n",
        "      # Get the layer activations\n",
        "      layer_activations = self.forward(X)\n",
        "      # layer_input[i] is an input for network[i]\n",
        "      layer_inputs = [X]+layer_activations\n",
        "      logits = layer_activations[-1]\n",
        "\n",
        "      # Compute the loss and the initial gradient\n",
        "      loss = cross_entropy_loss(logits,y)\n",
        "      loss_grad = softmax_grad(logits,y)\n",
        "\n",
        "      # Propagate gradients through the network\n",
        "      # Reverse propogation as this is backprop\n",
        "      for layer_index in range(len(self.network))[::-1]:\n",
        "          # Get the layer using layer_index\n",
        "          layer = ...\n",
        "\n",
        "          # Compute the gradient of this using layer using the previous gradient and update the weights (Use backward function)\n",
        "          # Gradient w.r.t. input, also weight updates\n",
        "          loss_grad = ...\n",
        "\n",
        "\n",
        "      return np.mean(loss)\n",
        "  def run(self,X_train,Y_train,X_val, Y_val,epochs=25,batchsize=32):\n",
        "    train_log = []\n",
        "    val_log = []\n",
        "    loss_log = []\n",
        "    for epoch in range(epochs):\n",
        "      for x_batch,y_batch in iterate_minibatches(X_train,Y_train,batchsize=batchsize,shuffle=True):\n",
        "        loss_log.append(self.train(x_batch,y_batch))\n",
        "      train_log.append(np.mean(self.predict(X_train)==Y_train))\n",
        "      val_log.append(np.mean(self.predict(X_val)==Y_val))\n",
        "\n",
        "      clear_output()\n",
        "      print(\"Epoch\",epoch+1)\n",
        "      print(\"Train accuracy:\",train_log[-1])\n",
        "      print(\"Val accuracy:\",val_log[-1])\n",
        "\n",
        "      # Plot Graph of Train/Test accuracy vs epochs\n",
        "      ...\n",
        "\n",
        "      # Plot Graph of Loss vs batches.\n",
        "      ...\n",
        "\n",
        "\n"
      ]
    },
    {
      "cell_type": "markdown",
      "metadata": {
        "id": "n6GwfR3ZDFcS"
      },
      "source": [
        "## Combining all together"
      ]
    },
    {
      "cell_type": "code",
      "execution_count": null,
      "metadata": {
        "id": "Byu6SmiK779I"
      },
      "outputs": [],
      "source": [
        "# DO NOT EDIT\n",
        "# Create minibatches\n",
        "def iterate_minibatches(inputs, targets, batchsize, shuffle=False):\n",
        "    assert len(inputs) == len(targets)\n",
        "    if shuffle:\n",
        "        indices = np.random.permutation(len(inputs))\n",
        "    for start_idx in trange(0, len(inputs) - batchsize + 1, batchsize):\n",
        "        if shuffle:\n",
        "            excerpt = indices[start_idx:start_idx + batchsize]\n",
        "        else:\n",
        "            excerpt = slice(start_idx, start_idx + batchsize)\n",
        "        yield inputs[excerpt], targets[excerpt]"
      ]
    },
    {
      "cell_type": "code",
      "execution_count": null,
      "metadata": {
        "id": "UgOZfvBj779B"
      },
      "outputs": [],
      "source": [
        "# DO NOT EDIT\n",
        "# Load Dataset\n",
        "def load_dataset(load_data,reshape,flatten=False):\n",
        "    (X_train, y_train), (X_test, y_test) = load_data()\n",
        "\n",
        "    # normalize x\n",
        "    X_train = X_train.astype(float) / 255.\n",
        "    X_test = X_test.astype(float) / 255.\n",
        "    y_train = y_train.reshape(-1)\n",
        "    y_test = y_test.reshape(-1)\n",
        "\n",
        "    # we reserve the last 10000 training examples for validation\n",
        "    X_train, X_val = X_train[:-10000], X_train[-10000:]\n",
        "    y_train, y_val = y_train[:-10000], y_train[-10000:]\n",
        "\n",
        "    if flatten:\n",
        "        X_train = X_train.reshape([X_train.shape[0], -1])\n",
        "        X_val = X_val.reshape([X_val.shape[0], -1])\n",
        "        X_test = X_test.reshape([X_test.shape[0], -1])\n",
        "\n",
        "    ## Let's look at some example\n",
        "    plt.figure(figsize=[5,5])\n",
        "    for i in range(4):\n",
        "      plt.subplot(2,2,i+1)\n",
        "      plt.title(\"Label: %i\"%y_train[i])\n",
        "      plt.imshow(X_train[i].reshape(reshape));\n",
        "    plt.show()\n",
        "    clear_output()\n",
        "    return X_train, y_train, X_val, y_val, X_test, y_test"
      ]
    },
    {
      "cell_type": "markdown",
      "metadata": {
        "id": "jeVwVLF9JyfV"
      },
      "source": [
        "# CIFAR 10"
      ]
    },
    {
      "cell_type": "code",
      "execution_count": null,
      "metadata": {
        "colab": {
          "base_uri": "https://localhost:8080/",
          "height": 597
        },
        "id": "UMM01fFvCt20",
        "outputId": "1d2a7cc7-29e5-4096-c628-8f6d66310fac"
      },
      "outputs": [
        {
          "name": "stdout",
          "output_type": "stream",
          "text": [
            "Epoch 25\n",
            "Train accuracy: 0.698175\n",
            "Val accuracy: 0.5132\n"
          ]
        },
        {
          "data": {
            "image/png": "[encoded data removed]",
            "text/plain": [
              "<Figure size 432x288 with 1 Axes>"
            ]
          },
          "metadata": {
            "needs_background": "light"
          },
          "output_type": "display_data"
        },
        {
          "data": {
            "image/png": "[encoded data removed]",
            "text/plain": [
              "<Figure size 432x288 with 1 Axes>"
            ]
          },
          "metadata": {
            "needs_background": "light"
          },
          "output_type": "display_data"
        }
      ],
      "source": [
        "# DO NOT EDIT\n",
        "# Load Data\n",
        "X_train, y_train, X_val, y_val, X_test, y_test = load_dataset(cifar10.load_data,[32,32,3],flatten=True)\n",
        "\n",
        "# Network Configuration\n",
        "network = []\n",
        "lr=0.03\n",
        "network.append(Dense(X_train.shape[1],128,learning_rate=lr))\n",
        "network.append(ReLU())\n",
        "network.append(Dense(128,256,learning_rate=lr))\n",
        "network.append(ReLU())\n",
        "network.append(Dense(256,512,learning_rate=lr))\n",
        "network.append(ReLU())\n",
        "network.append(Dense(512,10,learning_rate=lr))\n",
        "# Intialize Model\n",
        "model = MLP(n = network)\n",
        "# Train Model\n",
        "model.run(X_train,y_train,X_val,y_val)"
      ]
    },
    {
      "cell_type": "code",
      "execution_count": null,
      "metadata": {
        "colab": {
          "base_uri": "https://localhost:8080/"
        },
        "id": "oFYU-4-5SvHN",
        "outputId": "492135dd-5fee-42d8-d341-1ccc4d09928d"
      },
      "outputs": [
        {
          "name": "stdout",
          "output_type": "stream",
          "text": [
            "0.5151\n"
          ]
        }
      ],
      "source": [
        "#TODO: Compute accuracy on the test data\n",
        "test_acc = ...\n",
        "print(test_acc)"
      ]
    },
    {
      "cell_type": "markdown",
      "metadata": {
        "id": "50bWqhCeL9lO"
      },
      "source": [
        "# Fashion MNIST"
      ]
    },
    {
      "cell_type": "code",
      "execution_count": null,
      "metadata": {
        "colab": {
          "base_uri": "https://localhost:8080/",
          "height": 597
        },
        "id": "6NPpG-k3L_PA",
        "outputId": "1620cb0a-4f88-4f48-a6cd-2efd380b68c1"
      },
      "outputs": [
        {
          "name": "stdout",
          "output_type": "stream",
          "text": [
            "Epoch 25\n",
            "Train accuracy: 0.93926\n",
            "Val accuracy: 0.8926\n"
          ]
        },
        {
          "data": {
            "image/png": "[encoded data removed]",
            "text/plain": [
              "<Figure size 432x288 with 1 Axes>"
            ]
          },
          "metadata": {
            "needs_background": "light"
          },
          "output_type": "display_data"
        },
        {
          "data": {
            "image/png": "[encoded data removed]",
            "text/plain": [
              "<Figure size 432x288 with 1 Axes>"
            ]
          },
          "metadata": {
            "needs_background": "light"
          },
          "output_type": "display_data"
        }
      ],
      "source": [
        "# DO NOT EDIT\n",
        "# Load Data\n",
        "X_train, y_train, X_val, y_val, X_test, y_test = load_dataset(fashion_mnist.load_data,[28,28],flatten=True)\n",
        "\n",
        "# Network Configuration\n",
        "network = []\n",
        "lr=0.03\n",
        "network.append(Dense(X_train.shape[1],128,learning_rate=lr))\n",
        "network.append(ReLU())\n",
        "network.append(Dense(128,256,learning_rate=lr))\n",
        "network.append(ReLU())\n",
        "network.append(Dense(256,512,learning_rate=lr))\n",
        "network.append(ReLU())\n",
        "network.append(Dense(512,10,learning_rate=lr))\n",
        "# Intialize Model\n",
        "model = MLP(n = network)\n",
        "# Train Model\n",
        "model.run(X_train,y_train,X_val,y_val)"
      ]
    },
    {
      "cell_type": "code",
      "execution_count": null,
      "metadata": {
        "colab": {
          "base_uri": "https://localhost:8080/"
        },
        "id": "BlNuIVfASS0K",
        "outputId": "de1530b0-f947-419d-9dcd-41eb7ecbe420"
      },
      "outputs": [
        {
          "name": "stdout",
          "output_type": "stream",
          "text": [
            "0.8836\n"
          ]
        }
      ],
      "source": [
        "#TODO: Compute accuracy on the test data\n",
        "test_acc = ...\n",
        "print(test_acc)"
      ]
    }
  ],
  "metadata": {
    "accelerator": "GPU",
    "anaconda-cloud": {},
    "colab": {
      "provenance": [],
      "include_colab_link": true
    },
    "gpuClass": "standard",
    "kernelspec": {
      "display_name": "Python 3",
      "name": "python3"
    },
    "language_info": {
      "name": "python"
    },
    "toc": {
      "colors": {
        "hover_highlight": "#DAA520",
        "navigate_num": "#000000",
        "navigate_text": "#333333",
        "running_highlight": "#FF0000",
        "selected_highlight": "#FFD700",
        "sidebar_border": "#EEEEEE",
        "wrapper_background": "#FFFFFF"
      },
      "moveMenuLeft": true,
      "nav_menu": {
        "height": "264px",
        "width": "252px"
      },
      "navigate_menu": true,
      "number_sections": true,
      "sideBar": true,
      "threshold": 4,
      "toc_cell": false,
      "toc_section_display": "block",
      "toc_window_display": false,
      "widenNotebook": false
    }
  },
  "nbformat": 4,
  "nbformat_minor": 0
}